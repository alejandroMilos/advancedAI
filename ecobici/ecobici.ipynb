{
 "cells": [
  {
   "cell_type": "code",
   "execution_count": null,
   "id": "ee1d65d6",
   "metadata": {},
   "outputs": [],
   "source": [
    "# Importamos librerías\n",
    "import pandas as pd\n",
    "import numpy as np\n",
    "import matplotlib.pyplot as plt\n",
    "import seaborn as sns\n",
    "import requests"
   ]
  }
 ],
 "metadata": {
  "language_info": {
   "name": "python"
  }
 },
 "nbformat": 4,
 "nbformat_minor": 5
}
